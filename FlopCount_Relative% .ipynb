{
 "cells": [
  {
   "cell_type": "code",
   "execution_count": 26,
   "id": "32a5ccf7-4bfb-4193-9c44-94cc821339e7",
   "metadata": {},
   "outputs": [],
   "source": [
    "import torch\n",
    "from torchvision import models\n",
    "from transformers import BertModel\n",
    "from fvcore.nn import FlopCountAnalysis\n",
    "import numpy as np"
   ]
  },
  {
   "cell_type": "code",
   "execution_count": null,
   "id": "e1ad9f18-5ff7-4dbf-b0d5-d5099d4fbdd3",
   "metadata": {},
   "outputs": [],
   "source": [
    "model_list = [\n",
    "    (\"ResNet101\", models.resnet101(weights=models.ResNet101_Weights.DEFAULT)),\n",
    "    (\"EfficientNet_B0\", models.efficientnet_b0(weights=models.EfficientNet_B0_Weights.DEFAULT)),\n",
    "    (\"AlexNet\", models.alexnet(weights=models.AlexNet_Weights.DEFAULT)),\n",
    "    (\"SqueezeNet1_0\", models.squeezenet1_0(weights=models.SqueezeNet1_0_Weights.DEFAULT)),\n",
    "    (\"BERT_Large_Uncased\", BertModel.from_pretrained('bert-large-uncased'))\n",
    "]"
   ]
  },
  {
   "cell_type": "code",
   "execution_count": null,
   "id": "414f4730-79f1-42c6-85ba-90a811b50c36",
   "metadata": {},
   "outputs": [],
   "source": [
    "def analyze_model(model_name, model, input_tensor):\n",
    "    model.eval()\n",
    "    flops = FlopCountAnalysis(model, input_tensor)\n",
    "    model = model.to('cpu')\n",
    "    output = model(input_tensor)\n",
    "\n",
    "    flop_breakdown = flops.by_operator()\n",
    "\n",
    "    max_flop = max(flop_breakdown.values())\n",
    "\n",
    "    print(f\"\\nModel: {model_name}\")\n",
    "    print(f\"Total FLOPs: {flops.total()}\")\n",
    "    print(\"\\nOperator Name\\t\\tFLOP Count\\t\\tRelative %\")\n",
    "    print(\"-------------------------------------------------------------\")\n",
    "    for op_name, count in flop_breakdown.items():\n",
    "        relative_percentage = (count / max_flop) * 100\n",
    "        print(f\"{op_name:<20}\\t{count:<15}\\t{relative_percentage:.2f}%\")\n",
    "    print(\"-------------------------------------------------------------\")"
   ]
  },
  {
   "cell_type": "code",
   "execution_count": null,
   "id": "ede251e4-f735-4a54-bb47-8d2dbfdfaf19",
   "metadata": {},
   "outputs": [],
   "source": [
    "# For ResNet101\n",
    "for model_name, model in model_list:\n",
    "    if model_name == \"ResNet101\":\n",
    "        input_tensor = torch.randn(1, 3, 224, 224)\n",
    "        analyze_model(model_name, model, input_tensor)"
   ]
  },
  {
   "cell_type": "code",
   "execution_count": 17,
   "id": "50e29f85-dcfd-4064-a36e-94ed05fee4d8",
   "metadata": {},
   "outputs": [
    {
     "name": "stderr",
     "output_type": "stream",
     "text": [
      "Unsupported operator aten::silu_ encountered 49 time(s)\n",
      "Unsupported operator aten::sigmoid encountered 16 time(s)\n",
      "Unsupported operator aten::mul encountered 16 time(s)\n",
      "Unsupported operator aten::add_ encountered 9 time(s)\n",
      "Unsupported operator aten::dropout_ encountered 1 time(s)\n",
      "The following submodules of the model were never called during the trace of the graph. They may be unused, or they were accessed by direct calls to .forward() or via other python methods. In the latter case they will have zeros for statistics, though their statistics will still contribute to their parent calling module.\n",
      "features.1.0.stochastic_depth, features.2.0.stochastic_depth, features.2.1.stochastic_depth, features.3.0.stochastic_depth, features.3.1.stochastic_depth, features.4.0.stochastic_depth, features.4.1.stochastic_depth, features.4.2.stochastic_depth, features.5.0.stochastic_depth, features.5.1.stochastic_depth, features.5.2.stochastic_depth, features.6.0.stochastic_depth, features.6.1.stochastic_depth, features.6.2.stochastic_depth, features.6.3.stochastic_depth, features.7.0.stochastic_depth\n"
     ]
    },
    {
     "name": "stdout",
     "output_type": "stream",
     "text": [
      "\n",
      "Model: EfficientNet_B0\n",
      "Total FLOPs: 401659392\n",
      "\n",
      "Operator Name\t\tFLOP Count\t\tRelative %\n",
      "-------------------------------------------------------------\n",
      "conv                \t384534752      \t100.00%\n",
      "batch_norm          \t13475392       \t3.50%\n",
      "adaptive_avg_pool2d \t2369248        \t0.62%\n",
      "linear              \t1280000        \t0.33%\n",
      "-------------------------------------------------------------\n"
     ]
    }
   ],
   "source": [
    "for model_name, model in model_list:\n",
    "    if model_name == \"EfficientNet_B0\":\n",
    "        input_tensor = torch.randn(1, 3, 224, 224)\n",
    "        analyze_model(model_name, model, input_tensor)"
   ]
  },
  {
   "cell_type": "code",
   "execution_count": 18,
   "id": "0787991e-17df-4faf-a809-aa1977482c98",
   "metadata": {},
   "outputs": [
    {
     "name": "stderr",
     "output_type": "stream",
     "text": [
      "Unsupported operator aten::max_pool2d encountered 3 time(s)\n"
     ]
    },
    {
     "name": "stdout",
     "output_type": "stream",
     "text": [
      "\n",
      "Model: AlexNet\n",
      "Total FLOPs: 714197696\n",
      "\n",
      "Operator Name\t\tFLOP Count\t\tRelative %\n",
      "-------------------------------------------------------------\n",
      "conv                \t655566528      \t100.00%\n",
      "adaptive_avg_pool2d \t9216           \t0.00%\n",
      "linear              \t58621952       \t8.94%\n",
      "-------------------------------------------------------------\n"
     ]
    }
   ],
   "source": [
    "for model_name, model in model_list:\n",
    "    if model_name == \"AlexNet\":\n",
    "        input_tensor = torch.randn(1, 3, 224, 224)\n",
    "        analyze_model(model_name, model, input_tensor)"
   ]
  },
  {
   "cell_type": "code",
   "execution_count": 19,
   "id": "36fdb92b-2fc5-4154-8ee0-c94ba6fbd0f6",
   "metadata": {},
   "outputs": [
    {
     "name": "stderr",
     "output_type": "stream",
     "text": [
      "Unsupported operator aten::max_pool2d encountered 3 time(s)\n"
     ]
    },
    {
     "name": "stdout",
     "output_type": "stream",
     "text": [
      "\n",
      "Model: SqueezeNet1_0\n",
      "Total FLOPs: 819093576\n",
      "\n",
      "Operator Name\t\tFLOP Count\t\tRelative %\n",
      "-------------------------------------------------------------\n",
      "conv                \t818924576      \t100.00%\n",
      "adaptive_avg_pool2d \t169000         \t0.02%\n",
      "-------------------------------------------------------------\n"
     ]
    }
   ],
   "source": [
    "for model_name, model in model_list:\n",
    "    if model_name == \"SqueezeNet1_0\":\n",
    "        input_tensor = torch.randn(1, 3, 224, 224)\n",
    "        analyze_model(model_name, model, input_tensor)"
   ]
  },
  {
   "cell_type": "code",
   "execution_count": 20,
   "id": "99560e92-69e0-4d03-8aeb-5ed1adda796b",
   "metadata": {},
   "outputs": [
    {
     "name": "stderr",
     "output_type": "stream",
     "text": [
      "Unsupported operator aten::add encountered 75 time(s)\n",
      "Unsupported operator aten::rsub encountered 1 time(s)\n",
      "Unsupported operator aten::mul encountered 1 time(s)\n",
      "Unsupported operator aten::embedding encountered 3 time(s)\n",
      "Unsupported operator aten::add_ encountered 1 time(s)\n",
      "Unsupported operator aten::div encountered 24 time(s)\n",
      "Unsupported operator aten::softmax encountered 24 time(s)\n",
      "Unsupported operator aten::gelu encountered 24 time(s)\n",
      "Unsupported operator aten::tanh encountered 1 time(s)\n"
     ]
    },
    {
     "name": "stdout",
     "output_type": "stream",
     "text": [
      "\n",
      "Model: BERT_Large_Uncased\n",
      "Total FLOPs: 167633223680\n",
      "\n",
      "Operator Name\t\tFLOP Count\t\tRelative %\n",
      "-------------------------------------------------------------\n",
      "layer_norm          \t128450560      \t0.08%\n",
      "linear              \t154619871232   \t100.00%\n",
      "matmul              \t12884901888    \t8.33%\n",
      "-------------------------------------------------------------\n"
     ]
    }
   ],
   "source": [
    "for model_name, model in model_list:\n",
    "    if model_name.startswith(\"BERT\"):\n",
    "        input_tensor = torch.randint(0, 30522, (1, 512))\n",
    "        analyze_model(model_name, model, input_tensor)"
   ]
  },
  {
   "cell_type": "code",
   "execution_count": null,
   "id": "d92f20c8-f572-466f-9a82-983a9974a748",
   "metadata": {},
   "outputs": [],
   "source": []
  }
 ],
 "metadata": {
  "kernelspec": {
   "display_name": "Python 3 (ipykernel)",
   "language": "python",
   "name": "python3"
  },
  "language_info": {
   "codemirror_mode": {
    "name": "ipython",
    "version": 3
   },
   "file_extension": ".py",
   "mimetype": "text/x-python",
   "name": "python",
   "nbconvert_exporter": "python",
   "pygments_lexer": "ipython3",
   "version": "3.11.5"
  }
 },
 "nbformat": 4,
 "nbformat_minor": 5
}
