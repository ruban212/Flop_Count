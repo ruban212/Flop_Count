{
 "cells": [
  {
   "cell_type": "code",
   "execution_count": 5,
   "id": "32a5ccf7-4bfb-4193-9c44-94cc821339e7",
   "metadata": {},
   "outputs": [],
   "source": [
    "import torch\n",
    "from torchvision import models\n",
    "from transformers import BertModel\n",
    "from fvcore.nn import FlopCountAnalysis\n",
    "import numpy as np"
   ]
  },
  {
   "cell_type": "code",
   "execution_count": 6,
   "id": "e1ad9f18-5ff7-4dbf-b0d5-d5099d4fbdd3",
   "metadata": {},
   "outputs": [
    {
     "name": "stderr",
     "output_type": "stream",
     "text": [
      "Downloading: \"https://download.pytorch.org/models/resnet101-cd907fc2.pth\" to C:\\Users\\mruba/.cache\\torch\\hub\\checkpoints\\resnet101-cd907fc2.pth\n",
      "100%|███████████████████████████████████████████████████████████████████████████████| 171M/171M [00:27<00:00, 6.51MB/s]\n",
      "C:\\Users\\mruba\\anaconda3\\Lib\\site-packages\\huggingface_hub\\file_download.py:1132: FutureWarning: `resume_download` is deprecated and will be removed in version 1.0.0. Downloads always resume when possible. If you want to force a new download, use `force_download=True`.\n",
      "  warnings.warn(\n"
     ]
    },
    {
     "data": {
      "application/vnd.jupyter.widget-view+json": {
       "model_id": "f9bd224d7bc44efc8d3816ac104026d5",
       "version_major": 2,
       "version_minor": 0
      },
      "text/plain": [
       "config.json:   0%|          | 0.00/571 [00:00<?, ?B/s]"
      ]
     },
     "metadata": {},
     "output_type": "display_data"
    },
    {
     "name": "stderr",
     "output_type": "stream",
     "text": [
      "C:\\Users\\mruba\\anaconda3\\Lib\\site-packages\\huggingface_hub\\file_download.py:157: UserWarning: `huggingface_hub` cache-system uses symlinks by default to efficiently store duplicated files but your machine does not support them in C:\\Users\\mruba\\.cache\\huggingface\\hub\\models--bert-large-uncased. Caching files will still work but in a degraded version that might require more space on your disk. This warning can be disabled by setting the `HF_HUB_DISABLE_SYMLINKS_WARNING` environment variable. For more details, see https://huggingface.co/docs/huggingface_hub/how-to-cache#limitations.\n",
      "To support symlinks on Windows, you either need to activate Developer Mode or to run Python as an administrator. In order to see activate developer mode, see this article: https://docs.microsoft.com/en-us/windows/apps/get-started/enable-your-device-for-development\n",
      "  warnings.warn(message)\n"
     ]
    },
    {
     "data": {
      "application/vnd.jupyter.widget-view+json": {
       "model_id": "bbb7e14889be4418b931e705086f83b1",
       "version_major": 2,
       "version_minor": 0
      },
      "text/plain": [
       "model.safetensors:   0%|          | 0.00/1.34G [00:00<?, ?B/s]"
      ]
     },
     "metadata": {},
     "output_type": "display_data"
    }
   ],
   "source": [
    "model_list = [\n",
    "    (\"ResNet101\", models.resnet101(weights=models.ResNet101_Weights.DEFAULT)),\n",
    "    (\"EfficientNet_B0\", models.efficientnet_b0(weights=models.EfficientNet_B0_Weights.DEFAULT)),\n",
    "    (\"AlexNet\", models.alexnet(weights=models.AlexNet_Weights.DEFAULT)),\n",
    "    (\"SqueezeNet1_0\", models.squeezenet1_0(weights=models.SqueezeNet1_0_Weights.DEFAULT)),\n",
    "    (\"BERT_Large_Uncased\", BertModel.from_pretrained('bert-large-uncased'))\n",
    "]"
   ]
  },
  {
   "cell_type": "code",
   "execution_count": 14,
   "id": "414f4730-79f1-42c6-85ba-90a811b50c36",
   "metadata": {},
   "outputs": [],
   "source": [
    "def analyze_model(model_name, model, input_tensor):\n",
    "    model.eval()\n",
    "    flops = FlopCountAnalysis(model, input_tensor)\n",
    "    model = model.to('cpu')\n",
    "    output = model(input_tensor)\n",
    "\n",
    "    flop_breakdown = flops.by_operator()\n",
    "\n",
    "    max_flop = max(flop_breakdown.values())\n",
    "\n",
    "    print(f\"\\nModel: {model_name}\")\n",
    "    print(f\"Total FLOPs: {flops.total()}\")\n",
    "    print(\"\\nOperator Name\\t\\tFLOP Count\\t\\tRelative %\")\n",
    "    print(\"-------------------------------------------------------------\")\n",
    "    for op_name, count in flop_breakdown.items():\n",
    "        relative_percentage = (count / max_flop) * 100\n",
    "        print(f\"{op_name:<20}\\t{count:<15}\\t{relative_percentage:.2f}%\")\n",
    "    print(\"-------------------------------------------------------------\")"
   ]
  },
  {
   "cell_type": "code",
   "execution_count": 15,
   "id": "ede251e4-f735-4a54-bb47-8d2dbfdfaf19",
   "metadata": {},
   "outputs": [
    {
     "name": "stderr",
     "output_type": "stream",
     "text": [
      "Unsupported operator aten::max_pool2d encountered 1 time(s)\n",
      "Unsupported operator aten::add_ encountered 33 time(s)\n"
     ]
    },
    {
     "name": "stdout",
     "output_type": "stream",
     "text": [
      "\n",
      "Model: ResNet101\n",
      "Total FLOPs: 7833969664\n",
      "\n",
      "Operator Name\t\tFLOP Count\t\tRelative %\n",
      "-------------------------------------------------------------\n",
      "conv                \t7799357440     \t100.00%\n",
      "batch_norm          \t32463872       \t0.42%\n",
      "adaptive_avg_pool2d \t100352         \t0.00%\n",
      "linear              \t2048000        \t0.03%\n",
      "-------------------------------------------------------------\n"
     ]
    }
   ],
   "source": [
    "# For ResNet101\n",
    "for model_name, model in model_list:\n",
    "    if model_name == \"ResNet101\":\n",
    "        input_tensor = torch.randn(1, 3, 224, 224)\n",
    "        analyze_model(model_name, model, input_tensor)"
   ]
  },
  {
   "cell_type": "code",
   "execution_count": 17,
   "id": "50e29f85-dcfd-4064-a36e-94ed05fee4d8",
   "metadata": {},
   "outputs": [
    {
     "name": "stderr",
     "output_type": "stream",
     "text": [
      "Unsupported operator aten::silu_ encountered 49 time(s)\n",
      "Unsupported operator aten::sigmoid encountered 16 time(s)\n",
      "Unsupported operator aten::mul encountered 16 time(s)\n",
      "Unsupported operator aten::add_ encountered 9 time(s)\n",
      "Unsupported operator aten::dropout_ encountered 1 time(s)\n",
      "The following submodules of the model were never called during the trace of the graph. They may be unused, or they were accessed by direct calls to .forward() or via other python methods. In the latter case they will have zeros for statistics, though their statistics will still contribute to their parent calling module.\n",
      "features.1.0.stochastic_depth, features.2.0.stochastic_depth, features.2.1.stochastic_depth, features.3.0.stochastic_depth, features.3.1.stochastic_depth, features.4.0.stochastic_depth, features.4.1.stochastic_depth, features.4.2.stochastic_depth, features.5.0.stochastic_depth, features.5.1.stochastic_depth, features.5.2.stochastic_depth, features.6.0.stochastic_depth, features.6.1.stochastic_depth, features.6.2.stochastic_depth, features.6.3.stochastic_depth, features.7.0.stochastic_depth\n"
     ]
    },
    {
     "name": "stdout",
     "output_type": "stream",
     "text": [
      "\n",
      "Model: EfficientNet_B0\n",
      "Total FLOPs: 401659392\n",
      "\n",
      "Operator Name\t\tFLOP Count\t\tRelative %\n",
      "-------------------------------------------------------------\n",
      "conv                \t384534752      \t100.00%\n",
      "batch_norm          \t13475392       \t3.50%\n",
      "adaptive_avg_pool2d \t2369248        \t0.62%\n",
      "linear              \t1280000        \t0.33%\n",
      "-------------------------------------------------------------\n"
     ]
    }
   ],
   "source": [
    "for model_name, model in model_list:\n",
    "    if model_name == \"EfficientNet_B0\":\n",
    "        input_tensor = torch.randn(1, 3, 224, 224)\n",
    "        analyze_model(model_name, model, input_tensor)"
   ]
  },
  {
   "cell_type": "code",
   "execution_count": 18,
   "id": "0787991e-17df-4faf-a809-aa1977482c98",
   "metadata": {},
   "outputs": [
    {
     "name": "stderr",
     "output_type": "stream",
     "text": [
      "Unsupported operator aten::max_pool2d encountered 3 time(s)\n"
     ]
    },
    {
     "name": "stdout",
     "output_type": "stream",
     "text": [
      "\n",
      "Model: AlexNet\n",
      "Total FLOPs: 714197696\n",
      "\n",
      "Operator Name\t\tFLOP Count\t\tRelative %\n",
      "-------------------------------------------------------------\n",
      "conv                \t655566528      \t100.00%\n",
      "adaptive_avg_pool2d \t9216           \t0.00%\n",
      "linear              \t58621952       \t8.94%\n",
      "-------------------------------------------------------------\n"
     ]
    }
   ],
   "source": [
    "for model_name, model in model_list:\n",
    "    if model_name == \"AlexNet\":\n",
    "        input_tensor = torch.randn(1, 3, 224, 224)\n",
    "        analyze_model(model_name, model, input_tensor)"
   ]
  },
  {
   "cell_type": "code",
   "execution_count": 19,
   "id": "36fdb92b-2fc5-4154-8ee0-c94ba6fbd0f6",
   "metadata": {},
   "outputs": [
    {
     "name": "stderr",
     "output_type": "stream",
     "text": [
      "Unsupported operator aten::max_pool2d encountered 3 time(s)\n"
     ]
    },
    {
     "name": "stdout",
     "output_type": "stream",
     "text": [
      "\n",
      "Model: SqueezeNet1_0\n",
      "Total FLOPs: 819093576\n",
      "\n",
      "Operator Name\t\tFLOP Count\t\tRelative %\n",
      "-------------------------------------------------------------\n",
      "conv                \t818924576      \t100.00%\n",
      "adaptive_avg_pool2d \t169000         \t0.02%\n",
      "-------------------------------------------------------------\n"
     ]
    }
   ],
   "source": [
    "for model_name, model in model_list:\n",
    "    if model_name == \"SqueezeNet1_0\":\n",
    "        input_tensor = torch.randn(1, 3, 224, 224)\n",
    "        analyze_model(model_name, model, input_tensor)"
   ]
  },
  {
   "cell_type": "code",
   "execution_count": 20,
   "id": "99560e92-69e0-4d03-8aeb-5ed1adda796b",
   "metadata": {},
   "outputs": [
    {
     "name": "stderr",
     "output_type": "stream",
     "text": [
      "Unsupported operator aten::add encountered 75 time(s)\n",
      "Unsupported operator aten::rsub encountered 1 time(s)\n",
      "Unsupported operator aten::mul encountered 1 time(s)\n",
      "Unsupported operator aten::embedding encountered 3 time(s)\n",
      "Unsupported operator aten::add_ encountered 1 time(s)\n",
      "Unsupported operator aten::div encountered 24 time(s)\n",
      "Unsupported operator aten::softmax encountered 24 time(s)\n",
      "Unsupported operator aten::gelu encountered 24 time(s)\n",
      "Unsupported operator aten::tanh encountered 1 time(s)\n"
     ]
    },
    {
     "name": "stdout",
     "output_type": "stream",
     "text": [
      "\n",
      "Model: BERT_Large_Uncased\n",
      "Total FLOPs: 167633223680\n",
      "\n",
      "Operator Name\t\tFLOP Count\t\tRelative %\n",
      "-------------------------------------------------------------\n",
      "layer_norm          \t128450560      \t0.08%\n",
      "linear              \t154619871232   \t100.00%\n",
      "matmul              \t12884901888    \t8.33%\n",
      "-------------------------------------------------------------\n"
     ]
    }
   ],
   "source": [
    "for model_name, model in model_list:\n",
    "    if model_name.startswith(\"BERT\"):\n",
    "        input_tensor = torch.randint(0, 30522, (1, 512))\n",
    "        analyze_model(model_name, model, input_tensor)"
   ]
  },
  {
   "cell_type": "code",
   "execution_count": null,
   "id": "d92f20c8-f572-466f-9a82-983a9974a748",
   "metadata": {},
   "outputs": [],
   "source": []
  }
 ],
 "metadata": {
  "kernelspec": {
   "display_name": "Python 3 (ipykernel)",
   "language": "python",
   "name": "python3"
  },
  "language_info": {
   "codemirror_mode": {
    "name": "ipython",
    "version": 3
   },
   "file_extension": ".py",
   "mimetype": "text/x-python",
   "name": "python",
   "nbconvert_exporter": "python",
   "pygments_lexer": "ipython3",
   "version": "3.11.5"
  }
 },
 "nbformat": 4,
 "nbformat_minor": 5
}
